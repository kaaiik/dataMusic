{
 "cells": [
  {
   "cell_type": "code",
   "execution_count": 1,
   "id": "9896436d",
   "metadata": {},
   "outputs": [],
   "source": [
    "import requests"
   ]
  },
  {
   "cell_type": "code",
   "execution_count": 3,
   "id": "7f6e52cd",
   "metadata": {},
   "outputs": [],
   "source": [
    "URL = 'https://accounts.spotify.com/api/token'"
   ]
  },
  {
   "cell_type": "code",
   "execution_count": 4,
   "id": "f0459311",
   "metadata": {},
   "outputs": [
    {
     "data": {
      "text/plain": [
       "<Response [405]>"
      ]
     },
     "execution_count": 4,
     "metadata": {},
     "output_type": "execute_result"
    }
   ],
   "source": [
    "requests.get(URL)"
   ]
  },
  {
   "cell_type": "code",
   "execution_count": null,
   "id": "92428e4d",
   "metadata": {},
   "outputs": [],
   "source": [
    "def getAccesToken(client_id, client_secret):\n",
    "    message = f'{client_id:client_secret}'\n",
    "    message_bytes = message.encode('ascii')\n",
    "    base64_bytes = base64.b64encode(message_bytes)\n",
    "    base64_message = base64_bytes.decode('ascii')\n",
    "    \n",
    "    aut_header['Authorization'] = 'Basic ' + base64_message\n",
    "    aut_data = 'client_credentials'\n",
    "    \n",
    "    res = request.post(URL,  headers = aut_header, data = aut_data)\n",
    "    \n",
    "    response_obj = res.json()\n",
    "    \n",
    "    acces_token = response_obj['acces token']\n",
    "    \n",
    "    return acces_token\n",
    "\n",
    "def getPlaylistTracks():"
   ]
  }
 ],
 "metadata": {
  "kernelspec": {
   "display_name": "Python 3",
   "language": "python",
   "name": "python3"
  },
  "language_info": {
   "codemirror_mode": {
    "name": "ipython",
    "version": 3
   },
   "file_extension": ".py",
   "mimetype": "text/x-python",
   "name": "python",
   "nbconvert_exporter": "python",
   "pygments_lexer": "ipython3",
   "version": "3.8.8"
  }
 },
 "nbformat": 4,
 "nbformat_minor": 5
}
